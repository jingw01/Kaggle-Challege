{
 "metadata": {
  "name": "",
  "signature": "sha256:32c061b70394127ca6a18ba1c831fffa3a83db9d6f6c24071db336f3469ea440"
 },
 "nbformat": 3,
 "nbformat_minor": 0,
 "worksheets": [
  {
   "cells": [
    {
     "cell_type": "markdown",
     "metadata": {},
     "source": [
      "Kaggle Challenge - Titanic"
     ]
    },
    {
     "cell_type": "markdown",
     "metadata": {},
     "source": [
      "*General Case*"
     ]
    },
    {
     "cell_type": "code",
     "collapsed": false,
     "input": [
      "#Import Library and Data\n",
      "\n",
      "import csv as csv \n",
      "import numpy as np\n",
      "import pandas as pd\n",
      "\n",
      "#code from the web:\n",
      "csv_file_object = csv.reader(open('train.csv','rb'))\n",
      "header= csv_file_object.next()\n",
      "\n",
      "data=[]\n",
      "for row in csv_file_object:\n",
      "    data.append(row)\n",
      "\n",
      "data=np.array(data)\n"
     ],
     "language": "python",
     "metadata": {},
     "outputs": [],
     "prompt_number": 34
    },
    {
     "cell_type": "code",
     "collapsed": false,
     "input": [
      "#using pandas to read file\n",
      "#data=pd.read_csv('train.csv')"
     ],
     "language": "python",
     "metadata": {},
     "outputs": [],
     "prompt_number": 6
    },
    {
     "cell_type": "code",
     "collapsed": false,
     "input": [
      "#Gauge the size of population and people who survived\n",
      "number_passengers = np.size(data[0::,1].astype(np.float))\n",
      "number_survived = np.sum(data[0::,1].astype(np.float))\n",
      "proportion_survivors = number_survived / number_passengers\n",
      "print ('There are %s number of passengers, and %s of them survived,\\\n",
      "which is %.2f percentage of all passengers.' \\\n",
      "       %(number_passengers,number_survived,proportion_survivors))"
     ],
     "language": "python",
     "metadata": {},
     "outputs": [
      {
       "output_type": "stream",
       "stream": "stdout",
       "text": [
        "There are 891 number of passengers, and 342.0 of them survived,which is 0.38 percentage of all passengers.\n"
       ]
      }
     ],
     "prompt_number": 43
    },
    {
     "cell_type": "code",
     "collapsed": false,
     "input": [
      "#Caculate the proportion of people who survived based on their gender\n",
      "\n",
      "women_only_stats = data[0::,4] == \"female\" # This finds where all \n",
      "                                           # the elements in the gender\n",
      "                                           # column that equals \u201cfemale\u201d\n",
      "men_only_stats = data[0::,4] != \"female\"   # This finds where all the \n",
      "                                           # elements do not equal \n",
      "                                           # female (i.e. male)\n",
      "# Using the index from above we select the females and males separately\n",
      "women_onboard = data[women_only_stats,1].astype(np.float)     \n",
      "men_onboard = data[men_only_stats,1].astype(np.float)\n",
      "\n",
      "# Then we finds the proportions of them that survived\n",
      "proportion_women_survived = \\\n",
      "                       np.sum(women_onboard) / np.size(women_onboard)  \n",
      "proportion_men_survived = \\\n",
      "                       np.sum(men_onboard) / np.size(men_onboard) \n",
      "\n",
      "# and then print it out\n",
      "print 'Proportion of women who survived is %.2f' % proportion_women_survived\n",
      "print 'Proportion of men who survived is %.2f' % proportion_men_survived        \n",
      "    "
     ],
     "language": "python",
     "metadata": {},
     "outputs": [
      {
       "output_type": "stream",
       "stream": "stdout",
       "text": [
        "Proportion of women who survived is 0.74\n",
        "Proportion of men who survived is 0.19\n"
       ]
      }
     ],
     "prompt_number": 44
    },
    {
     "cell_type": "code",
     "collapsed": false,
     "input": [
      "#Predict the result of text dataset.\n",
      "#READ AND WRITE FILES AT THE SAME TIME\n",
      "test_file = open('test.csv', 'rb')\n",
      "test_file_object = csv.reader(test_file)\n",
      "header = test_file_object.next()\n",
      "prediction_file = open(\"genderbasedmodel.csv\", \"wb\")\n",
      "prediction_file_object = csv.writer(prediction_file)\n",
      "prediction_file_object.writerow([\"PassengerId\", \"Survived\"])\n",
      "for row in test_file_object:       # For each row in test.csv\n",
      "    if row[3] == 'female':         # is it a female, if yes then                                       \n",
      "        prediction_file_object.writerow([row[0],'1'])    # predict 1\n",
      "    else:                              # or else if male,       \n",
      "        prediction_file_object.writerow([row[0],'0'])    # predict 0\n",
      "test_file.close()\n",
      "prediction_file.close()"
     ],
     "language": "python",
     "metadata": {},
     "outputs": [],
     "prompt_number": 46
    },
    {
     "cell_type": "markdown",
     "metadata": {},
     "source": [
      "*Case 2 -- Incorporate More Variables*"
     ]
    },
    {
     "cell_type": "code",
     "collapsed": false,
     "input": [
      "# Group fares in to 0-9,10-19,... group, and set a fare ceiling\n",
      "fare_ceiling = 40\n",
      "\n",
      "# then modify the data in the Fare column to = 39, if it is greater or equal to the ceiling\n",
      "data[ data[0::,9].astype(np.float) >= fare_ceiling, 9 ] = fare_ceiling - 1.0\n",
      "\n",
      "fare_bracket_size = 10\n",
      "number_of_price_brackets = fare_ceiling / fare_bracket_size\n",
      "\n",
      "# Take the length of an array of unique values in column index 2\n",
      "number_of_classes = len(np.unique(data[0::,2])) \n",
      "\n",
      "\n",
      "# Initialize the survival table with all zeros\n",
      "survival_table = np.zeros((2, number_of_classes, number_of_price_brackets))"
     ],
     "language": "python",
     "metadata": {},
     "outputs": [],
     "prompt_number": 47
    },
    {
     "cell_type": "code",
     "collapsed": false,
     "input": [
      "for i in xrange(number_of_classes):       #loop through each class\n",
      "    for j in xrange(number_of_price_brackets):   #loop through each price bin\n",
      "        women_only_stats = data[(data[0::,4] == \"female\")\\\n",
      "                                &(data[0::,2].astype(np.float) == i+1)\\\n",
      "                                &(data[0:,9].astype(np.float)>= j*fare_bracket_size)\\\n",
      "                                &(data[0:,9].astype(np.float)< (j+1)*fare_bracket_size),\\\n",
      "                                1]\n",
      "        men_only_stats=data[(data[0::,4] != \"female\")\\\n",
      "                                &(data[0::,2].astype(np.float) == i+1)\\\n",
      "                                &(data[0:,9].astype(np.float)>= j*fare_bracket_size)\\\n",
      "                                &(data[0:,9].astype(np.float)< (j+1)*fare_bracket_size),\\\n",
      "                                1]\n",
      "        survival_table[0,i,j]=np.mean(women_only_stats.astype(np.float))\n",
      "        survival_table[1,i,j]=np.mean(men_only_stats.astype(np.float))\n",
      "        \n",
      "        "
     ],
     "language": "python",
     "metadata": {},
     "outputs": [],
     "prompt_number": 72
    },
    {
     "cell_type": "code",
     "collapsed": false,
     "input": [
      "#Repalce nan with 0\n",
      "survival_table[survival_table!=survival_table]=0\n",
      "#Use 0.5 as a cutting point\n",
      "\n",
      "survival_table[ survival_table < 0.5 ] = 0\n",
      "survival_table[ survival_table >= 0.5 ] = 1\n"
     ],
     "language": "python",
     "metadata": {},
     "outputs": [],
     "prompt_number": 75
    },
    {
     "cell_type": "code",
     "collapsed": false,
     "input": [
      "#Reults for Test Dataset;\n",
      "test_file = open('test.csv', 'rb')\n",
      "test_file_object = csv.reader(test_file)\n",
      "header = test_file_object.next()\n",
      "predictions_file = open(\"genderclassmodel.csv\", \"wb\")\n",
      "p = csv.writer(predictions_file)\n",
      "p.writerow([\"PassengerId\", \"Survived\"])\n",
      "\n",
      "for row in test_file_object:\n",
      "    for j in range(number_of_price_brackets):\n",
      "        try:\n",
      "            row[8]=float(row[8])\n",
      "        except:\n",
      "            bin_fare=3-float(row[1])\n",
      "            break\n",
      "        if row[8]>fare_ceiling:\n",
      "            bin_fare=number_of_price_brackets-1\n",
      "            break\n",
      "        if row[8]>=j*fare_bracket_size and row[8]<(j+1)*fare_bracket_size:\n",
      "            bin_fare=j\n",
      "            break\n",
      "    if row[3] == 'female':                             #If the passenger is female\n",
      "        p.writerow([row[0], \"%d\" % \\\n",
      "                   int(survival_table[0, float(row[1])-1, bin_fare])])\n",
      "    else:                                          #else if male\n",
      "        p.writerow([row[0], \"%d\" % \\\n",
      "                   int(survival_table[1, float(row[1])-1, bin_fare])])\n",
      "     \n",
      "# Close out the files.\n",
      "test_file.close() \n",
      "predictions_file.close()"
     ],
     "language": "python",
     "metadata": {},
     "outputs": [],
     "prompt_number": 79
    },
    {
     "cell_type": "code",
     "collapsed": false,
     "input": [],
     "language": "python",
     "metadata": {},
     "outputs": []
    }
   ],
   "metadata": {}
  }
 ]
}