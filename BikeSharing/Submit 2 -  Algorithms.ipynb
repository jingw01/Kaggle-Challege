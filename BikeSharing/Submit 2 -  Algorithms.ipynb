{
 "metadata": {
  "name": "",
  "signature": "sha256:ed49af9d4efdeee96fa201ab462e2d94a1bc9d0678c1847f46fa5d0f979fd849"
 },
 "nbformat": 3,
 "nbformat_minor": 0,
 "worksheets": [
  {
   "cells": [
    {
     "cell_type": "heading",
     "level": 1,
     "metadata": {},
     "source": [
      "Bike Sharing Demand"
     ]
    },
    {
     "cell_type": "markdown",
     "metadata": {},
     "source": [
      "Task: \n",
      "\n",
      "You are provided hourly rental data spanning two years. For this competition, the training set is comprised of the first 19 days of each month, while the test set is the 20th to the end of the month. You must predict the total count of bikes rented during each hour covered by the test set, using only information available prior to the rental period.\n",
      "\n",
      "Data:http://www.kaggle.com/c/bike-sharing-demand/data"
     ]
    },
    {
     "cell_type": "markdown",
     "metadata": {},
     "source": [
      "#### Setup and Plotting code"
     ]
    },
    {
     "cell_type": "markdown",
     "metadata": {},
     "source": [
      "#### Regression Model"
     ]
    },
    {
     "cell_type": "code",
     "collapsed": false,
     "input": [
      "import numpy as np\n",
      "import pandas as pd\n",
      "from sklearn.ensemble import ExtraTreesRegressor\n",
      "def preparedata(ds):\n",
      "    indext=pd.DatetimeIndex(ds['datetime'].values)\n",
      "    ds=ds.reset_index(indext)\n",
      "    ds['hour']=indext.hour\n",
      "    ds['date']=indext.date\n",
      "    ds['month']=indext.month\n",
      "    ds['year']=indext.year\n",
      "    ds['dayofweek']=indext.dayofweek\n",
      "    return ds\n",
      "def createExtraTree():\n",
      "    est = ExtraTreesRegressor(n_estimators=700)\n",
      "    return est"
     ],
     "language": "python",
     "metadata": {},
     "outputs": [],
     "prompt_number": 14
    },
    {
     "cell_type": "code",
     "collapsed": false,
     "input": [
      "train=pd.read_csv(\"train.csv\")\n",
      "train=preparedata(train)\n",
      "\n",
      "test=pd.read_csv(\"test.csv\")\n",
      "test=preparedata(test)"
     ],
     "language": "python",
     "metadata": {},
     "outputs": [],
     "prompt_number": 15
    },
    {
     "cell_type": "code",
     "collapsed": false,
     "input": [
      "Y=train[['casual']].values\n",
      "X=train[['hour','season','year','temp','month','holiday','windspeed','humidity','weather','dayofweek']].values\n",
      "Y=Y.ravel()"
     ],
     "language": "python",
     "metadata": {},
     "outputs": [],
     "prompt_number": 20
    },
    {
     "cell_type": "code",
     "collapsed": false,
     "input": [
      "rf=createExtraTree()\n",
      "rf.fit(X,Y)\n",
      "print 'ExtraTree', rf.score(X,Y)"
     ],
     "language": "python",
     "metadata": {},
     "outputs": [
      {
       "output_type": "stream",
       "stream": "stdout",
       "text": [
        "ExtraTree "
       ]
      },
      {
       "output_type": "stream",
       "stream": "stdout",
       "text": [
        "0.999977695574\n"
       ]
      }
     ],
     "prompt_number": 21
    },
    {
     "cell_type": "code",
     "collapsed": false,
     "input": [
      "x_test=test[['hour','season','year','temp','month','holiday','windspeed','humidity','weather','dayofweek']].values\n",
      "predicted_testc=rf.predict(x_test)"
     ],
     "language": "python",
     "metadata": {},
     "outputs": [],
     "prompt_number": 22
    },
    {
     "cell_type": "code",
     "collapsed": false,
     "input": [
      "Y=train[['registered']].values\n",
      "X=train[['hour','season','year','temp','month','holiday','windspeed','humidity','weather','dayofweek']].values\n",
      "Y=Y.ravel()\n",
      "rf=createExtraTree()\n",
      "rf.fit(X,Y)\n",
      "print 'ExtraTree', rf.score(X,Y)"
     ],
     "language": "python",
     "metadata": {},
     "outputs": [
      {
       "output_type": "stream",
       "stream": "stdout",
       "text": [
        "ExtraTree "
       ]
      },
      {
       "output_type": "stream",
       "stream": "stdout",
       "text": [
        "0.99999265053\n"
       ]
      }
     ],
     "prompt_number": 25
    },
    {
     "cell_type": "code",
     "collapsed": false,
     "input": [
      "predicted_testr=rf.predict(x_test)\n",
      "test['count']=predicted_testc+predicted_testr"
     ],
     "language": "python",
     "metadata": {},
     "outputs": [],
     "prompt_number": 26
    },
    {
     "cell_type": "code",
     "collapsed": false,
     "input": [
      "submit=test[['datetime','count']]\n",
      "submit.to_csv('submit2.csv',index=None)"
     ],
     "language": "python",
     "metadata": {},
     "outputs": [],
     "prompt_number": 27
    }
   ],
   "metadata": {}
  }
 ]
}